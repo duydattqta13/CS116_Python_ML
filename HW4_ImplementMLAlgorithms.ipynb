{
  "nbformat": 4,
  "nbformat_minor": 0,
  "metadata": {
    "colab": {
      "provenance": [],
      "collapsed_sections": [],
      "toc_visible": true
    },
    "kernelspec": {
      "name": "python3",
      "display_name": "Python 3"
    },
    "language_info": {
      "name": "python"
    }
  },
  "cells": [
    {
      "cell_type": "markdown",
      "source": [
        "1.MSSV: 20520435\n",
        "\n",
        "2.Họ tên: Nguyễn Duy Đạt\n",
        "\n",
        "3.Bài tập: 4\n",
        "\n",
        "4.Ngày thực hiện: 7/10/2022"
      ],
      "metadata": {
        "id": "laks196NeSdK"
      }
    },
    {
      "cell_type": "markdown",
      "source": [
        "Sử dụng data đã cung cấp để thử nghiệm trên các mô hình sau:\n",
        "\n",
        "- Linear Regression\n",
        "\n",
        "- Random Forest\n",
        "\n",
        "- Support Vector Regression (Linear Kernel, RBF Kernel, Polynomial Kernel)\n",
        "\n",
        "Kết quả của bài tập này là bảng so sánh các phương pháp trên các dataset với các độ lỗi MSE của Train, Val, Test set.\n",
        "\n",
        "Các bạn nộp:\n",
        "\n",
        "- Source code\n",
        "\n",
        "- Kết quả\n",
        "\n",
        "- Nhận xét kết quả"
      ],
      "metadata": {
        "id": "WgUoNsKG9qau"
      }
    },
    {
      "cell_type": "markdown",
      "source": [
        "# I.Source code"
      ],
      "metadata": {
        "id": "BZxAbDaE9_J4"
      }
    },
    {
      "cell_type": "code",
      "source": [
        "from google.colab import drive\n",
        "drive.mount('/content/drive')"
      ],
      "metadata": {
        "colab": {
          "base_uri": "https://localhost:8080/"
        },
        "id": "ocSCDiSrbdz5",
        "outputId": "e747b5e2-e802-4af4-b1b4-b8f8d7b7b132"
      },
      "execution_count": null,
      "outputs": [
        {
          "output_type": "stream",
          "name": "stdout",
          "text": [
            "Drive already mounted at /content/drive; to attempt to forcibly remount, call drive.mount(\"/content/drive\", force_remount=True).\n"
          ]
        }
      ]
    },
    {
      "cell_type": "code",
      "execution_count": null,
      "metadata": {
        "colab": {
          "base_uri": "https://localhost:8080/"
        },
        "id": "KUGnms0YcRRc",
        "outputId": "13fbed03-ba8f-4486-905d-ca06e35e3c46"
      },
      "outputs": [
        {
          "output_type": "stream",
          "name": "stdout",
          "text": [
            "/content/drive/MyDrive/CS116 \n"
          ]
        }
      ],
      "source": [
        "%cd \"/content/drive/MyDrive/CS116 \""
      ]
    },
    {
      "cell_type": "code",
      "source": [
        "import numpy as np\n",
        "import pandas as pd\n",
        "from sklearn.model_selection import train_test_split\n",
        "from sklearn.metrics import mean_squared_error\n",
        "from sklearn.preprocessing import OneHotEncoder\n",
        "from sklearn.preprocessing import MinMaxScaler"
      ],
      "metadata": {
        "id": "ySG2LXF-cbuA"
      },
      "execution_count": null,
      "outputs": []
    },
    {
      "cell_type": "code",
      "source": [
        "from sklearn.linear_model import LinearRegression\n",
        "from sklearn.ensemble import RandomForestRegressor\n",
        "from sklearn.svm import SVR"
      ],
      "metadata": {
        "id": "H9ggMCGUemFM"
      },
      "execution_count": null,
      "outputs": []
    },
    {
      "cell_type": "code",
      "source": [
        "lr = LinearRegression()\n",
        "rf = RandomForestRegressor()\n",
        "svr_linear = SVR(kernel='linear')\n",
        "svr_rbf = SVR(kernel='rbf')\n",
        "svr_poly = SVR(kernel='poly')"
      ],
      "metadata": {
        "id": "R-Oj01Y1fKG3"
      },
      "execution_count": null,
      "outputs": []
    },
    {
      "cell_type": "code",
      "source": [
        "model = [lr, rf, svr_linear, svr_rbf, svr_poly]\n",
        "name = ['Linear regression', 'Random forest', 'SVM Linear', 'SVM rbf', 'SVM poly']\n",
        "\n",
        "def evaluate(X_train, y_train, X_val, y_val, X_test, y_test):  \n",
        "\n",
        "  for i in range(len(model)):\n",
        "    res = model[i].fit(X_train, y_train)\n",
        "    y_train_pred = res.predict(X_train)\n",
        "    y_val_pred = res.predict(X_val)\n",
        "    y_test_pred = res.predict(X_test)\n",
        "\n",
        "    print('------------------', name[i], '------------------')\n",
        "    print('MSE on train: ', round(mean_squared_error(y_train, y_train_pred), 3))\n",
        "    print('MSE on val: ', round(mean_squared_error(y_val, y_val_pred), 3))\n",
        "    print('MSE on test: ', round(mean_squared_error(y_test, y_test_pred), 3))\n",
        "    print('-------------------------------------------------')"
      ],
      "metadata": {
        "id": "fpDZAMq2dlXn"
      },
      "execution_count": null,
      "outputs": []
    },
    {
      "cell_type": "markdown",
      "source": [
        "## 1.Salary_Data"
      ],
      "metadata": {
        "id": "Wdi5QEVvdhRu"
      }
    },
    {
      "cell_type": "code",
      "source": [
        "df1 = pd.read_csv('Salary_Data.csv')\n",
        "df1.head()"
      ],
      "metadata": {
        "colab": {
          "base_uri": "https://localhost:8080/",
          "height": 206
        },
        "id": "A1J7Q9Jwc7CX",
        "outputId": "023123f3-d1cb-48de-8c71-dafa35146700"
      },
      "execution_count": null,
      "outputs": [
        {
          "output_type": "execute_result",
          "data": {
            "text/plain": [
              "   YearsExperience   Salary\n",
              "0              1.1  39343.0\n",
              "1              1.3  46205.0\n",
              "2              1.5  37731.0\n",
              "3              2.0  43525.0\n",
              "4              2.2  39891.0"
            ],
            "text/html": [
              "\n",
              "  <div id=\"df-a8fd520e-49ce-4541-9e84-175b1896decb\">\n",
              "    <div class=\"colab-df-container\">\n",
              "      <div>\n",
              "<style scoped>\n",
              "    .dataframe tbody tr th:only-of-type {\n",
              "        vertical-align: middle;\n",
              "    }\n",
              "\n",
              "    .dataframe tbody tr th {\n",
              "        vertical-align: top;\n",
              "    }\n",
              "\n",
              "    .dataframe thead th {\n",
              "        text-align: right;\n",
              "    }\n",
              "</style>\n",
              "<table border=\"1\" class=\"dataframe\">\n",
              "  <thead>\n",
              "    <tr style=\"text-align: right;\">\n",
              "      <th></th>\n",
              "      <th>YearsExperience</th>\n",
              "      <th>Salary</th>\n",
              "    </tr>\n",
              "  </thead>\n",
              "  <tbody>\n",
              "    <tr>\n",
              "      <th>0</th>\n",
              "      <td>1.1</td>\n",
              "      <td>39343.0</td>\n",
              "    </tr>\n",
              "    <tr>\n",
              "      <th>1</th>\n",
              "      <td>1.3</td>\n",
              "      <td>46205.0</td>\n",
              "    </tr>\n",
              "    <tr>\n",
              "      <th>2</th>\n",
              "      <td>1.5</td>\n",
              "      <td>37731.0</td>\n",
              "    </tr>\n",
              "    <tr>\n",
              "      <th>3</th>\n",
              "      <td>2.0</td>\n",
              "      <td>43525.0</td>\n",
              "    </tr>\n",
              "    <tr>\n",
              "      <th>4</th>\n",
              "      <td>2.2</td>\n",
              "      <td>39891.0</td>\n",
              "    </tr>\n",
              "  </tbody>\n",
              "</table>\n",
              "</div>\n",
              "      <button class=\"colab-df-convert\" onclick=\"convertToInteractive('df-a8fd520e-49ce-4541-9e84-175b1896decb')\"\n",
              "              title=\"Convert this dataframe to an interactive table.\"\n",
              "              style=\"display:none;\">\n",
              "        \n",
              "  <svg xmlns=\"http://www.w3.org/2000/svg\" height=\"24px\"viewBox=\"0 0 24 24\"\n",
              "       width=\"24px\">\n",
              "    <path d=\"M0 0h24v24H0V0z\" fill=\"none\"/>\n",
              "    <path d=\"M18.56 5.44l.94 2.06.94-2.06 2.06-.94-2.06-.94-.94-2.06-.94 2.06-2.06.94zm-11 1L8.5 8.5l.94-2.06 2.06-.94-2.06-.94L8.5 2.5l-.94 2.06-2.06.94zm10 10l.94 2.06.94-2.06 2.06-.94-2.06-.94-.94-2.06-.94 2.06-2.06.94z\"/><path d=\"M17.41 7.96l-1.37-1.37c-.4-.4-.92-.59-1.43-.59-.52 0-1.04.2-1.43.59L10.3 9.45l-7.72 7.72c-.78.78-.78 2.05 0 2.83L4 21.41c.39.39.9.59 1.41.59.51 0 1.02-.2 1.41-.59l7.78-7.78 2.81-2.81c.8-.78.8-2.07 0-2.86zM5.41 20L4 18.59l7.72-7.72 1.47 1.35L5.41 20z\"/>\n",
              "  </svg>\n",
              "      </button>\n",
              "      \n",
              "  <style>\n",
              "    .colab-df-container {\n",
              "      display:flex;\n",
              "      flex-wrap:wrap;\n",
              "      gap: 12px;\n",
              "    }\n",
              "\n",
              "    .colab-df-convert {\n",
              "      background-color: #E8F0FE;\n",
              "      border: none;\n",
              "      border-radius: 50%;\n",
              "      cursor: pointer;\n",
              "      display: none;\n",
              "      fill: #1967D2;\n",
              "      height: 32px;\n",
              "      padding: 0 0 0 0;\n",
              "      width: 32px;\n",
              "    }\n",
              "\n",
              "    .colab-df-convert:hover {\n",
              "      background-color: #E2EBFA;\n",
              "      box-shadow: 0px 1px 2px rgba(60, 64, 67, 0.3), 0px 1px 3px 1px rgba(60, 64, 67, 0.15);\n",
              "      fill: #174EA6;\n",
              "    }\n",
              "\n",
              "    [theme=dark] .colab-df-convert {\n",
              "      background-color: #3B4455;\n",
              "      fill: #D2E3FC;\n",
              "    }\n",
              "\n",
              "    [theme=dark] .colab-df-convert:hover {\n",
              "      background-color: #434B5C;\n",
              "      box-shadow: 0px 1px 3px 1px rgba(0, 0, 0, 0.15);\n",
              "      filter: drop-shadow(0px 1px 2px rgba(0, 0, 0, 0.3));\n",
              "      fill: #FFFFFF;\n",
              "    }\n",
              "  </style>\n",
              "\n",
              "      <script>\n",
              "        const buttonEl =\n",
              "          document.querySelector('#df-a8fd520e-49ce-4541-9e84-175b1896decb button.colab-df-convert');\n",
              "        buttonEl.style.display =\n",
              "          google.colab.kernel.accessAllowed ? 'block' : 'none';\n",
              "\n",
              "        async function convertToInteractive(key) {\n",
              "          const element = document.querySelector('#df-a8fd520e-49ce-4541-9e84-175b1896decb');\n",
              "          const dataTable =\n",
              "            await google.colab.kernel.invokeFunction('convertToInteractive',\n",
              "                                                     [key], {});\n",
              "          if (!dataTable) return;\n",
              "\n",
              "          const docLinkHtml = 'Like what you see? Visit the ' +\n",
              "            '<a target=\"_blank\" href=https://colab.research.google.com/notebooks/data_table.ipynb>data table notebook</a>'\n",
              "            + ' to learn more about interactive tables.';\n",
              "          element.innerHTML = '';\n",
              "          dataTable['output_type'] = 'display_data';\n",
              "          await google.colab.output.renderOutput(dataTable, element);\n",
              "          const docLink = document.createElement('div');\n",
              "          docLink.innerHTML = docLinkHtml;\n",
              "          element.appendChild(docLink);\n",
              "        }\n",
              "      </script>\n",
              "    </div>\n",
              "  </div>\n",
              "  "
            ]
          },
          "metadata": {},
          "execution_count": 51
        }
      ]
    },
    {
      "cell_type": "code",
      "source": [
        "X_df1 = df1.drop(columns='Salary')\n",
        "y_df1 = df1['Salary']"
      ],
      "metadata": {
        "id": "QBXu4VM2f_aC"
      },
      "execution_count": null,
      "outputs": []
    },
    {
      "cell_type": "code",
      "source": [
        "# Chia train/test 80:20\n",
        "X_train_df1, X_test_df1, y_train_df1, y_test_df1 = train_test_split(X_df1, y_df1, test_size=0.2, random_state=42, shuffle=True)"
      ],
      "metadata": {
        "id": "-qf0LkN4QxD5"
      },
      "execution_count": null,
      "outputs": []
    },
    {
      "cell_type": "code",
      "source": [
        "# Chia train/val 80:20 từ train trên\n",
        "X_train_df1, X_val_df1, y_train_df1, y_val_df1 = train_test_split(X_train_df1, y_train_df1, test_size=0.2, random_state=42, shuffle=True)"
      ],
      "metadata": {
        "id": "DC_x9nqIcfvN"
      },
      "execution_count": null,
      "outputs": []
    },
    {
      "cell_type": "code",
      "source": [
        "evaluate(X_train_df1, y_train_df1, X_val_df1, y_val_df1, X_test_df1, y_test_df1)"
      ],
      "metadata": {
        "colab": {
          "base_uri": "https://localhost:8080/"
        },
        "id": "osYD45VHfeV4",
        "outputId": "fe522509-d758-4b20-931c-c1565d35b805"
      },
      "execution_count": null,
      "outputs": [
        {
          "output_type": "stream",
          "name": "stdout",
          "text": [
            "------------------ Linear regression ------------------\n",
            "MSE on train:  30816430.904\n",
            "MSE on val:  13998817.774\n",
            "MSE on test:  48407730.461\n",
            "-------------------------------------------------\n",
            "------------------ Random forest ------------------\n",
            "MSE on train:  4527608.702\n",
            "MSE on val:  29224486.831\n",
            "MSE on test:  56934421.575\n",
            "-------------------------------------------------\n",
            "------------------ SVM Linear ------------------\n",
            "MSE on train:  876020632.49\n",
            "MSE on val:  1126422884.972\n",
            "MSE on test:  991070731.169\n",
            "-------------------------------------------------\n",
            "------------------ SVM rbf ------------------\n",
            "MSE on train:  882970684.74\n",
            "MSE on val:  1135345776.794\n",
            "MSE on test:  997751754.546\n",
            "-------------------------------------------------\n",
            "------------------ SVM poly ------------------\n",
            "MSE on train:  719312652.109\n",
            "MSE on val:  911456098.27\n",
            "MSE on test:  825555447.978\n",
            "-------------------------------------------------\n"
          ]
        }
      ]
    },
    {
      "cell_type": "markdown",
      "source": [
        "## 2.Position_Salaries"
      ],
      "metadata": {
        "id": "VqQCWWgQghad"
      }
    },
    {
      "cell_type": "code",
      "source": [
        "df2 = pd.read_csv('Position_Salaries.csv')\n",
        "df2.head()"
      ],
      "metadata": {
        "colab": {
          "base_uri": "https://localhost:8080/",
          "height": 206
        },
        "id": "uC6NHMBGdfP3",
        "outputId": "ac7bc837-75f5-47c5-87a4-66b08fd22c1e"
      },
      "execution_count": null,
      "outputs": [
        {
          "output_type": "execute_result",
          "data": {
            "text/plain": [
              "            Position  Level  Salary\n",
              "0   Business Analyst      1   45000\n",
              "1  Junior Consultant      2   50000\n",
              "2  Senior Consultant      3   60000\n",
              "3            Manager      4   80000\n",
              "4    Country Manager      5  110000"
            ],
            "text/html": [
              "\n",
              "  <div id=\"df-889916ec-5695-4975-abd6-24d95cecd7d4\">\n",
              "    <div class=\"colab-df-container\">\n",
              "      <div>\n",
              "<style scoped>\n",
              "    .dataframe tbody tr th:only-of-type {\n",
              "        vertical-align: middle;\n",
              "    }\n",
              "\n",
              "    .dataframe tbody tr th {\n",
              "        vertical-align: top;\n",
              "    }\n",
              "\n",
              "    .dataframe thead th {\n",
              "        text-align: right;\n",
              "    }\n",
              "</style>\n",
              "<table border=\"1\" class=\"dataframe\">\n",
              "  <thead>\n",
              "    <tr style=\"text-align: right;\">\n",
              "      <th></th>\n",
              "      <th>Position</th>\n",
              "      <th>Level</th>\n",
              "      <th>Salary</th>\n",
              "    </tr>\n",
              "  </thead>\n",
              "  <tbody>\n",
              "    <tr>\n",
              "      <th>0</th>\n",
              "      <td>Business Analyst</td>\n",
              "      <td>1</td>\n",
              "      <td>45000</td>\n",
              "    </tr>\n",
              "    <tr>\n",
              "      <th>1</th>\n",
              "      <td>Junior Consultant</td>\n",
              "      <td>2</td>\n",
              "      <td>50000</td>\n",
              "    </tr>\n",
              "    <tr>\n",
              "      <th>2</th>\n",
              "      <td>Senior Consultant</td>\n",
              "      <td>3</td>\n",
              "      <td>60000</td>\n",
              "    </tr>\n",
              "    <tr>\n",
              "      <th>3</th>\n",
              "      <td>Manager</td>\n",
              "      <td>4</td>\n",
              "      <td>80000</td>\n",
              "    </tr>\n",
              "    <tr>\n",
              "      <th>4</th>\n",
              "      <td>Country Manager</td>\n",
              "      <td>5</td>\n",
              "      <td>110000</td>\n",
              "    </tr>\n",
              "  </tbody>\n",
              "</table>\n",
              "</div>\n",
              "      <button class=\"colab-df-convert\" onclick=\"convertToInteractive('df-889916ec-5695-4975-abd6-24d95cecd7d4')\"\n",
              "              title=\"Convert this dataframe to an interactive table.\"\n",
              "              style=\"display:none;\">\n",
              "        \n",
              "  <svg xmlns=\"http://www.w3.org/2000/svg\" height=\"24px\"viewBox=\"0 0 24 24\"\n",
              "       width=\"24px\">\n",
              "    <path d=\"M0 0h24v24H0V0z\" fill=\"none\"/>\n",
              "    <path d=\"M18.56 5.44l.94 2.06.94-2.06 2.06-.94-2.06-.94-.94-2.06-.94 2.06-2.06.94zm-11 1L8.5 8.5l.94-2.06 2.06-.94-2.06-.94L8.5 2.5l-.94 2.06-2.06.94zm10 10l.94 2.06.94-2.06 2.06-.94-2.06-.94-.94-2.06-.94 2.06-2.06.94z\"/><path d=\"M17.41 7.96l-1.37-1.37c-.4-.4-.92-.59-1.43-.59-.52 0-1.04.2-1.43.59L10.3 9.45l-7.72 7.72c-.78.78-.78 2.05 0 2.83L4 21.41c.39.39.9.59 1.41.59.51 0 1.02-.2 1.41-.59l7.78-7.78 2.81-2.81c.8-.78.8-2.07 0-2.86zM5.41 20L4 18.59l7.72-7.72 1.47 1.35L5.41 20z\"/>\n",
              "  </svg>\n",
              "      </button>\n",
              "      \n",
              "  <style>\n",
              "    .colab-df-container {\n",
              "      display:flex;\n",
              "      flex-wrap:wrap;\n",
              "      gap: 12px;\n",
              "    }\n",
              "\n",
              "    .colab-df-convert {\n",
              "      background-color: #E8F0FE;\n",
              "      border: none;\n",
              "      border-radius: 50%;\n",
              "      cursor: pointer;\n",
              "      display: none;\n",
              "      fill: #1967D2;\n",
              "      height: 32px;\n",
              "      padding: 0 0 0 0;\n",
              "      width: 32px;\n",
              "    }\n",
              "\n",
              "    .colab-df-convert:hover {\n",
              "      background-color: #E2EBFA;\n",
              "      box-shadow: 0px 1px 2px rgba(60, 64, 67, 0.3), 0px 1px 3px 1px rgba(60, 64, 67, 0.15);\n",
              "      fill: #174EA6;\n",
              "    }\n",
              "\n",
              "    [theme=dark] .colab-df-convert {\n",
              "      background-color: #3B4455;\n",
              "      fill: #D2E3FC;\n",
              "    }\n",
              "\n",
              "    [theme=dark] .colab-df-convert:hover {\n",
              "      background-color: #434B5C;\n",
              "      box-shadow: 0px 1px 3px 1px rgba(0, 0, 0, 0.15);\n",
              "      filter: drop-shadow(0px 1px 2px rgba(0, 0, 0, 0.3));\n",
              "      fill: #FFFFFF;\n",
              "    }\n",
              "  </style>\n",
              "\n",
              "      <script>\n",
              "        const buttonEl =\n",
              "          document.querySelector('#df-889916ec-5695-4975-abd6-24d95cecd7d4 button.colab-df-convert');\n",
              "        buttonEl.style.display =\n",
              "          google.colab.kernel.accessAllowed ? 'block' : 'none';\n",
              "\n",
              "        async function convertToInteractive(key) {\n",
              "          const element = document.querySelector('#df-889916ec-5695-4975-abd6-24d95cecd7d4');\n",
              "          const dataTable =\n",
              "            await google.colab.kernel.invokeFunction('convertToInteractive',\n",
              "                                                     [key], {});\n",
              "          if (!dataTable) return;\n",
              "\n",
              "          const docLinkHtml = 'Like what you see? Visit the ' +\n",
              "            '<a target=\"_blank\" href=https://colab.research.google.com/notebooks/data_table.ipynb>data table notebook</a>'\n",
              "            + ' to learn more about interactive tables.';\n",
              "          element.innerHTML = '';\n",
              "          dataTable['output_type'] = 'display_data';\n",
              "          await google.colab.output.renderOutput(dataTable, element);\n",
              "          const docLink = document.createElement('div');\n",
              "          docLink.innerHTML = docLinkHtml;\n",
              "          element.appendChild(docLink);\n",
              "        }\n",
              "      </script>\n",
              "    </div>\n",
              "  </div>\n",
              "  "
            ]
          },
          "metadata": {},
          "execution_count": 56
        }
      ]
    },
    {
      "cell_type": "code",
      "source": [
        "X_df2 = df2.drop(columns='Salary')\n",
        "y_df2 = df2['Salary']"
      ],
      "metadata": {
        "id": "CIR49VGfgo2V"
      },
      "execution_count": null,
      "outputs": []
    },
    {
      "cell_type": "code",
      "source": [
        "X_df2 = pd.get_dummies(X_df2)\n",
        "X_df2.head()"
      ],
      "metadata": {
        "colab": {
          "base_uri": "https://localhost:8080/",
          "height": 288
        },
        "id": "1aC0bLvdCYi8",
        "outputId": "3804d0db-7546-493f-f6ce-432affa00d0c"
      },
      "execution_count": null,
      "outputs": [
        {
          "output_type": "execute_result",
          "data": {
            "text/plain": [
              "   Level  Position_Business Analyst  Position_C-level  Position_CEO  \\\n",
              "0      1                          1                 0             0   \n",
              "1      2                          0                 0             0   \n",
              "2      3                          0                 0             0   \n",
              "3      4                          0                 0             0   \n",
              "4      5                          0                 0             0   \n",
              "\n",
              "   Position_Country Manager  Position_Junior Consultant  Position_Manager  \\\n",
              "0                         0                           0                 0   \n",
              "1                         0                           1                 0   \n",
              "2                         0                           0                 0   \n",
              "3                         0                           0                 1   \n",
              "4                         1                           0                 0   \n",
              "\n",
              "   Position_Partner  Position_Region Manager  Position_Senior Consultant  \\\n",
              "0                 0                        0                           0   \n",
              "1                 0                        0                           0   \n",
              "2                 0                        0                           1   \n",
              "3                 0                        0                           0   \n",
              "4                 0                        0                           0   \n",
              "\n",
              "   Position_Senior Partner  \n",
              "0                        0  \n",
              "1                        0  \n",
              "2                        0  \n",
              "3                        0  \n",
              "4                        0  "
            ],
            "text/html": [
              "\n",
              "  <div id=\"df-7054569d-df4d-402e-9fbd-b189d973a57f\">\n",
              "    <div class=\"colab-df-container\">\n",
              "      <div>\n",
              "<style scoped>\n",
              "    .dataframe tbody tr th:only-of-type {\n",
              "        vertical-align: middle;\n",
              "    }\n",
              "\n",
              "    .dataframe tbody tr th {\n",
              "        vertical-align: top;\n",
              "    }\n",
              "\n",
              "    .dataframe thead th {\n",
              "        text-align: right;\n",
              "    }\n",
              "</style>\n",
              "<table border=\"1\" class=\"dataframe\">\n",
              "  <thead>\n",
              "    <tr style=\"text-align: right;\">\n",
              "      <th></th>\n",
              "      <th>Level</th>\n",
              "      <th>Position_Business Analyst</th>\n",
              "      <th>Position_C-level</th>\n",
              "      <th>Position_CEO</th>\n",
              "      <th>Position_Country Manager</th>\n",
              "      <th>Position_Junior Consultant</th>\n",
              "      <th>Position_Manager</th>\n",
              "      <th>Position_Partner</th>\n",
              "      <th>Position_Region Manager</th>\n",
              "      <th>Position_Senior Consultant</th>\n",
              "      <th>Position_Senior Partner</th>\n",
              "    </tr>\n",
              "  </thead>\n",
              "  <tbody>\n",
              "    <tr>\n",
              "      <th>0</th>\n",
              "      <td>1</td>\n",
              "      <td>1</td>\n",
              "      <td>0</td>\n",
              "      <td>0</td>\n",
              "      <td>0</td>\n",
              "      <td>0</td>\n",
              "      <td>0</td>\n",
              "      <td>0</td>\n",
              "      <td>0</td>\n",
              "      <td>0</td>\n",
              "      <td>0</td>\n",
              "    </tr>\n",
              "    <tr>\n",
              "      <th>1</th>\n",
              "      <td>2</td>\n",
              "      <td>0</td>\n",
              "      <td>0</td>\n",
              "      <td>0</td>\n",
              "      <td>0</td>\n",
              "      <td>1</td>\n",
              "      <td>0</td>\n",
              "      <td>0</td>\n",
              "      <td>0</td>\n",
              "      <td>0</td>\n",
              "      <td>0</td>\n",
              "    </tr>\n",
              "    <tr>\n",
              "      <th>2</th>\n",
              "      <td>3</td>\n",
              "      <td>0</td>\n",
              "      <td>0</td>\n",
              "      <td>0</td>\n",
              "      <td>0</td>\n",
              "      <td>0</td>\n",
              "      <td>0</td>\n",
              "      <td>0</td>\n",
              "      <td>0</td>\n",
              "      <td>1</td>\n",
              "      <td>0</td>\n",
              "    </tr>\n",
              "    <tr>\n",
              "      <th>3</th>\n",
              "      <td>4</td>\n",
              "      <td>0</td>\n",
              "      <td>0</td>\n",
              "      <td>0</td>\n",
              "      <td>0</td>\n",
              "      <td>0</td>\n",
              "      <td>1</td>\n",
              "      <td>0</td>\n",
              "      <td>0</td>\n",
              "      <td>0</td>\n",
              "      <td>0</td>\n",
              "    </tr>\n",
              "    <tr>\n",
              "      <th>4</th>\n",
              "      <td>5</td>\n",
              "      <td>0</td>\n",
              "      <td>0</td>\n",
              "      <td>0</td>\n",
              "      <td>1</td>\n",
              "      <td>0</td>\n",
              "      <td>0</td>\n",
              "      <td>0</td>\n",
              "      <td>0</td>\n",
              "      <td>0</td>\n",
              "      <td>0</td>\n",
              "    </tr>\n",
              "  </tbody>\n",
              "</table>\n",
              "</div>\n",
              "      <button class=\"colab-df-convert\" onclick=\"convertToInteractive('df-7054569d-df4d-402e-9fbd-b189d973a57f')\"\n",
              "              title=\"Convert this dataframe to an interactive table.\"\n",
              "              style=\"display:none;\">\n",
              "        \n",
              "  <svg xmlns=\"http://www.w3.org/2000/svg\" height=\"24px\"viewBox=\"0 0 24 24\"\n",
              "       width=\"24px\">\n",
              "    <path d=\"M0 0h24v24H0V0z\" fill=\"none\"/>\n",
              "    <path d=\"M18.56 5.44l.94 2.06.94-2.06 2.06-.94-2.06-.94-.94-2.06-.94 2.06-2.06.94zm-11 1L8.5 8.5l.94-2.06 2.06-.94-2.06-.94L8.5 2.5l-.94 2.06-2.06.94zm10 10l.94 2.06.94-2.06 2.06-.94-2.06-.94-.94-2.06-.94 2.06-2.06.94z\"/><path d=\"M17.41 7.96l-1.37-1.37c-.4-.4-.92-.59-1.43-.59-.52 0-1.04.2-1.43.59L10.3 9.45l-7.72 7.72c-.78.78-.78 2.05 0 2.83L4 21.41c.39.39.9.59 1.41.59.51 0 1.02-.2 1.41-.59l7.78-7.78 2.81-2.81c.8-.78.8-2.07 0-2.86zM5.41 20L4 18.59l7.72-7.72 1.47 1.35L5.41 20z\"/>\n",
              "  </svg>\n",
              "      </button>\n",
              "      \n",
              "  <style>\n",
              "    .colab-df-container {\n",
              "      display:flex;\n",
              "      flex-wrap:wrap;\n",
              "      gap: 12px;\n",
              "    }\n",
              "\n",
              "    .colab-df-convert {\n",
              "      background-color: #E8F0FE;\n",
              "      border: none;\n",
              "      border-radius: 50%;\n",
              "      cursor: pointer;\n",
              "      display: none;\n",
              "      fill: #1967D2;\n",
              "      height: 32px;\n",
              "      padding: 0 0 0 0;\n",
              "      width: 32px;\n",
              "    }\n",
              "\n",
              "    .colab-df-convert:hover {\n",
              "      background-color: #E2EBFA;\n",
              "      box-shadow: 0px 1px 2px rgba(60, 64, 67, 0.3), 0px 1px 3px 1px rgba(60, 64, 67, 0.15);\n",
              "      fill: #174EA6;\n",
              "    }\n",
              "\n",
              "    [theme=dark] .colab-df-convert {\n",
              "      background-color: #3B4455;\n",
              "      fill: #D2E3FC;\n",
              "    }\n",
              "\n",
              "    [theme=dark] .colab-df-convert:hover {\n",
              "      background-color: #434B5C;\n",
              "      box-shadow: 0px 1px 3px 1px rgba(0, 0, 0, 0.15);\n",
              "      filter: drop-shadow(0px 1px 2px rgba(0, 0, 0, 0.3));\n",
              "      fill: #FFFFFF;\n",
              "    }\n",
              "  </style>\n",
              "\n",
              "      <script>\n",
              "        const buttonEl =\n",
              "          document.querySelector('#df-7054569d-df4d-402e-9fbd-b189d973a57f button.colab-df-convert');\n",
              "        buttonEl.style.display =\n",
              "          google.colab.kernel.accessAllowed ? 'block' : 'none';\n",
              "\n",
              "        async function convertToInteractive(key) {\n",
              "          const element = document.querySelector('#df-7054569d-df4d-402e-9fbd-b189d973a57f');\n",
              "          const dataTable =\n",
              "            await google.colab.kernel.invokeFunction('convertToInteractive',\n",
              "                                                     [key], {});\n",
              "          if (!dataTable) return;\n",
              "\n",
              "          const docLinkHtml = 'Like what you see? Visit the ' +\n",
              "            '<a target=\"_blank\" href=https://colab.research.google.com/notebooks/data_table.ipynb>data table notebook</a>'\n",
              "            + ' to learn more about interactive tables.';\n",
              "          element.innerHTML = '';\n",
              "          dataTable['output_type'] = 'display_data';\n",
              "          await google.colab.output.renderOutput(dataTable, element);\n",
              "          const docLink = document.createElement('div');\n",
              "          docLink.innerHTML = docLinkHtml;\n",
              "          element.appendChild(docLink);\n",
              "        }\n",
              "      </script>\n",
              "    </div>\n",
              "  </div>\n",
              "  "
            ]
          },
          "metadata": {},
          "execution_count": 58
        }
      ]
    },
    {
      "cell_type": "code",
      "source": [
        "# Chia train/test 80:20\n",
        "X_train_df2, X_test_df2, y_train_df2, y_test_df2 = train_test_split(X_df2, y_df2, test_size=0.2, random_state=42, shuffle=True)"
      ],
      "metadata": {
        "id": "TqT-HTkIhQxu"
      },
      "execution_count": null,
      "outputs": []
    },
    {
      "cell_type": "code",
      "source": [
        "# Chia train/val 80:20 từ train trên\n",
        "X_train_df2, X_val_df2, y_train_df2, y_val_df2 = train_test_split(X_train_df2, y_train_df2, test_size=0.2, random_state=42, shuffle=True)"
      ],
      "metadata": {
        "id": "rRrpgNYahWn5"
      },
      "execution_count": null,
      "outputs": []
    },
    {
      "cell_type": "code",
      "source": [
        "evaluate(X_train_df2, y_train_df2, X_val_df2, y_val_df2, X_test_df2, y_test_df2)"
      ],
      "metadata": {
        "colab": {
          "base_uri": "https://localhost:8080/"
        },
        "id": "AWT0SYLShb-6",
        "outputId": "2e268e83-ebc0-465c-ca25-37b0d06cde92"
      },
      "execution_count": null,
      "outputs": [
        {
          "output_type": "stream",
          "name": "stdout",
          "text": [
            "------------------ Linear regression ------------------\n",
            "MSE on train:  0.0\n",
            "MSE on val:  60867255396.362\n",
            "MSE on test:  33466596757.47\n",
            "-------------------------------------------------\n",
            "------------------ Random forest ------------------\n",
            "MSE on train:  11115165000.0\n",
            "MSE on val:  1746980000.0\n",
            "MSE on test:  21398045000.0\n",
            "-------------------------------------------------\n",
            "------------------ SVM Linear ------------------\n",
            "MSE on train:  119942970853.0\n",
            "MSE on val:  10552752340.0\n",
            "MSE on test:  60608501908.0\n",
            "-------------------------------------------------\n",
            "------------------ SVM rbf ------------------\n",
            "MSE on train:  119957885320.505\n",
            "MSE on val:  10562275104.345\n",
            "MSE on test:  60624516407.287\n",
            "-------------------------------------------------\n",
            "------------------ SVM poly ------------------\n",
            "MSE on train:  119953431065.829\n",
            "MSE on val:  10561513737.969\n",
            "MSE on test:  60621182863.374\n",
            "-------------------------------------------------\n"
          ]
        }
      ]
    },
    {
      "cell_type": "markdown",
      "source": [
        "## 3.50_Startups"
      ],
      "metadata": {
        "id": "enn1-ubW-YFj"
      }
    },
    {
      "cell_type": "code",
      "source": [
        "df3 = pd.read_csv('50_Startups.csv')\n",
        "df3.head()"
      ],
      "metadata": {
        "colab": {
          "base_uri": "https://localhost:8080/",
          "height": 206
        },
        "id": "Pcb0pl2NeKiN",
        "outputId": "faa20794-84bb-4c30-a6b4-5bcbf4616986"
      },
      "execution_count": null,
      "outputs": [
        {
          "output_type": "execute_result",
          "data": {
            "text/plain": [
              "   R&D Spend  Administration  Marketing Spend       State     Profit\n",
              "0  165349.20       136897.80        471784.10    New York  192261.83\n",
              "1  162597.70       151377.59        443898.53  California  191792.06\n",
              "2  153441.51       101145.55        407934.54     Florida  191050.39\n",
              "3  144372.41       118671.85        383199.62    New York  182901.99\n",
              "4  142107.34        91391.77        366168.42     Florida  166187.94"
            ],
            "text/html": [
              "\n",
              "  <div id=\"df-d3a104a8-48f7-4796-8519-b616c8540002\">\n",
              "    <div class=\"colab-df-container\">\n",
              "      <div>\n",
              "<style scoped>\n",
              "    .dataframe tbody tr th:only-of-type {\n",
              "        vertical-align: middle;\n",
              "    }\n",
              "\n",
              "    .dataframe tbody tr th {\n",
              "        vertical-align: top;\n",
              "    }\n",
              "\n",
              "    .dataframe thead th {\n",
              "        text-align: right;\n",
              "    }\n",
              "</style>\n",
              "<table border=\"1\" class=\"dataframe\">\n",
              "  <thead>\n",
              "    <tr style=\"text-align: right;\">\n",
              "      <th></th>\n",
              "      <th>R&amp;D Spend</th>\n",
              "      <th>Administration</th>\n",
              "      <th>Marketing Spend</th>\n",
              "      <th>State</th>\n",
              "      <th>Profit</th>\n",
              "    </tr>\n",
              "  </thead>\n",
              "  <tbody>\n",
              "    <tr>\n",
              "      <th>0</th>\n",
              "      <td>165349.20</td>\n",
              "      <td>136897.80</td>\n",
              "      <td>471784.10</td>\n",
              "      <td>New York</td>\n",
              "      <td>192261.83</td>\n",
              "    </tr>\n",
              "    <tr>\n",
              "      <th>1</th>\n",
              "      <td>162597.70</td>\n",
              "      <td>151377.59</td>\n",
              "      <td>443898.53</td>\n",
              "      <td>California</td>\n",
              "      <td>191792.06</td>\n",
              "    </tr>\n",
              "    <tr>\n",
              "      <th>2</th>\n",
              "      <td>153441.51</td>\n",
              "      <td>101145.55</td>\n",
              "      <td>407934.54</td>\n",
              "      <td>Florida</td>\n",
              "      <td>191050.39</td>\n",
              "    </tr>\n",
              "    <tr>\n",
              "      <th>3</th>\n",
              "      <td>144372.41</td>\n",
              "      <td>118671.85</td>\n",
              "      <td>383199.62</td>\n",
              "      <td>New York</td>\n",
              "      <td>182901.99</td>\n",
              "    </tr>\n",
              "    <tr>\n",
              "      <th>4</th>\n",
              "      <td>142107.34</td>\n",
              "      <td>91391.77</td>\n",
              "      <td>366168.42</td>\n",
              "      <td>Florida</td>\n",
              "      <td>166187.94</td>\n",
              "    </tr>\n",
              "  </tbody>\n",
              "</table>\n",
              "</div>\n",
              "      <button class=\"colab-df-convert\" onclick=\"convertToInteractive('df-d3a104a8-48f7-4796-8519-b616c8540002')\"\n",
              "              title=\"Convert this dataframe to an interactive table.\"\n",
              "              style=\"display:none;\">\n",
              "        \n",
              "  <svg xmlns=\"http://www.w3.org/2000/svg\" height=\"24px\"viewBox=\"0 0 24 24\"\n",
              "       width=\"24px\">\n",
              "    <path d=\"M0 0h24v24H0V0z\" fill=\"none\"/>\n",
              "    <path d=\"M18.56 5.44l.94 2.06.94-2.06 2.06-.94-2.06-.94-.94-2.06-.94 2.06-2.06.94zm-11 1L8.5 8.5l.94-2.06 2.06-.94-2.06-.94L8.5 2.5l-.94 2.06-2.06.94zm10 10l.94 2.06.94-2.06 2.06-.94-2.06-.94-.94-2.06-.94 2.06-2.06.94z\"/><path d=\"M17.41 7.96l-1.37-1.37c-.4-.4-.92-.59-1.43-.59-.52 0-1.04.2-1.43.59L10.3 9.45l-7.72 7.72c-.78.78-.78 2.05 0 2.83L4 21.41c.39.39.9.59 1.41.59.51 0 1.02-.2 1.41-.59l7.78-7.78 2.81-2.81c.8-.78.8-2.07 0-2.86zM5.41 20L4 18.59l7.72-7.72 1.47 1.35L5.41 20z\"/>\n",
              "  </svg>\n",
              "      </button>\n",
              "      \n",
              "  <style>\n",
              "    .colab-df-container {\n",
              "      display:flex;\n",
              "      flex-wrap:wrap;\n",
              "      gap: 12px;\n",
              "    }\n",
              "\n",
              "    .colab-df-convert {\n",
              "      background-color: #E8F0FE;\n",
              "      border: none;\n",
              "      border-radius: 50%;\n",
              "      cursor: pointer;\n",
              "      display: none;\n",
              "      fill: #1967D2;\n",
              "      height: 32px;\n",
              "      padding: 0 0 0 0;\n",
              "      width: 32px;\n",
              "    }\n",
              "\n",
              "    .colab-df-convert:hover {\n",
              "      background-color: #E2EBFA;\n",
              "      box-shadow: 0px 1px 2px rgba(60, 64, 67, 0.3), 0px 1px 3px 1px rgba(60, 64, 67, 0.15);\n",
              "      fill: #174EA6;\n",
              "    }\n",
              "\n",
              "    [theme=dark] .colab-df-convert {\n",
              "      background-color: #3B4455;\n",
              "      fill: #D2E3FC;\n",
              "    }\n",
              "\n",
              "    [theme=dark] .colab-df-convert:hover {\n",
              "      background-color: #434B5C;\n",
              "      box-shadow: 0px 1px 3px 1px rgba(0, 0, 0, 0.15);\n",
              "      filter: drop-shadow(0px 1px 2px rgba(0, 0, 0, 0.3));\n",
              "      fill: #FFFFFF;\n",
              "    }\n",
              "  </style>\n",
              "\n",
              "      <script>\n",
              "        const buttonEl =\n",
              "          document.querySelector('#df-d3a104a8-48f7-4796-8519-b616c8540002 button.colab-df-convert');\n",
              "        buttonEl.style.display =\n",
              "          google.colab.kernel.accessAllowed ? 'block' : 'none';\n",
              "\n",
              "        async function convertToInteractive(key) {\n",
              "          const element = document.querySelector('#df-d3a104a8-48f7-4796-8519-b616c8540002');\n",
              "          const dataTable =\n",
              "            await google.colab.kernel.invokeFunction('convertToInteractive',\n",
              "                                                     [key], {});\n",
              "          if (!dataTable) return;\n",
              "\n",
              "          const docLinkHtml = 'Like what you see? Visit the ' +\n",
              "            '<a target=\"_blank\" href=https://colab.research.google.com/notebooks/data_table.ipynb>data table notebook</a>'\n",
              "            + ' to learn more about interactive tables.';\n",
              "          element.innerHTML = '';\n",
              "          dataTable['output_type'] = 'display_data';\n",
              "          await google.colab.output.renderOutput(dataTable, element);\n",
              "          const docLink = document.createElement('div');\n",
              "          docLink.innerHTML = docLinkHtml;\n",
              "          element.appendChild(docLink);\n",
              "        }\n",
              "      </script>\n",
              "    </div>\n",
              "  </div>\n",
              "  "
            ]
          },
          "metadata": {},
          "execution_count": 62
        }
      ]
    },
    {
      "cell_type": "code",
      "source": [
        "X_df3 = df3.drop(columns='Profit')\n",
        "y_df3 = df3['Profit']"
      ],
      "metadata": {
        "id": "BIm_6ve5flre"
      },
      "execution_count": null,
      "outputs": []
    },
    {
      "cell_type": "code",
      "source": [
        "X_df3 = pd.get_dummies(X_df3)"
      ],
      "metadata": {
        "id": "Ezlf_BbxD8Q7"
      },
      "execution_count": null,
      "outputs": []
    },
    {
      "cell_type": "code",
      "source": [
        "scaler = MinMaxScaler()\n",
        "X_df3[['R&D Spend', 'Administration', 'Marketing Spend']] = scaler.fit_transform(X_df3[['R&D Spend', 'Administration', 'Marketing Spend']])\n",
        "X_df3.head()"
      ],
      "metadata": {
        "colab": {
          "base_uri": "https://localhost:8080/",
          "height": 206
        },
        "id": "Ze1XvcN_EALj",
        "outputId": "18f5aa61-26cf-4e3c-b90f-38d52e88936f"
      },
      "execution_count": null,
      "outputs": [
        {
          "output_type": "execute_result",
          "data": {
            "text/plain": [
              "   R&D Spend  Administration  Marketing Spend  State_California  \\\n",
              "0   1.000000        0.651744         1.000000                 0   \n",
              "1   0.983359        0.761972         0.940893                 1   \n",
              "2   0.927985        0.379579         0.864664                 0   \n",
              "3   0.873136        0.512998         0.812235                 0   \n",
              "4   0.859438        0.305328         0.776136                 0   \n",
              "\n",
              "   State_Florida  State_New York  \n",
              "0              0               1  \n",
              "1              0               0  \n",
              "2              1               0  \n",
              "3              0               1  \n",
              "4              1               0  "
            ],
            "text/html": [
              "\n",
              "  <div id=\"df-2d0d2fe4-52d3-4d0d-94f2-98ace3c3a251\">\n",
              "    <div class=\"colab-df-container\">\n",
              "      <div>\n",
              "<style scoped>\n",
              "    .dataframe tbody tr th:only-of-type {\n",
              "        vertical-align: middle;\n",
              "    }\n",
              "\n",
              "    .dataframe tbody tr th {\n",
              "        vertical-align: top;\n",
              "    }\n",
              "\n",
              "    .dataframe thead th {\n",
              "        text-align: right;\n",
              "    }\n",
              "</style>\n",
              "<table border=\"1\" class=\"dataframe\">\n",
              "  <thead>\n",
              "    <tr style=\"text-align: right;\">\n",
              "      <th></th>\n",
              "      <th>R&amp;D Spend</th>\n",
              "      <th>Administration</th>\n",
              "      <th>Marketing Spend</th>\n",
              "      <th>State_California</th>\n",
              "      <th>State_Florida</th>\n",
              "      <th>State_New York</th>\n",
              "    </tr>\n",
              "  </thead>\n",
              "  <tbody>\n",
              "    <tr>\n",
              "      <th>0</th>\n",
              "      <td>1.000000</td>\n",
              "      <td>0.651744</td>\n",
              "      <td>1.000000</td>\n",
              "      <td>0</td>\n",
              "      <td>0</td>\n",
              "      <td>1</td>\n",
              "    </tr>\n",
              "    <tr>\n",
              "      <th>1</th>\n",
              "      <td>0.983359</td>\n",
              "      <td>0.761972</td>\n",
              "      <td>0.940893</td>\n",
              "      <td>1</td>\n",
              "      <td>0</td>\n",
              "      <td>0</td>\n",
              "    </tr>\n",
              "    <tr>\n",
              "      <th>2</th>\n",
              "      <td>0.927985</td>\n",
              "      <td>0.379579</td>\n",
              "      <td>0.864664</td>\n",
              "      <td>0</td>\n",
              "      <td>1</td>\n",
              "      <td>0</td>\n",
              "    </tr>\n",
              "    <tr>\n",
              "      <th>3</th>\n",
              "      <td>0.873136</td>\n",
              "      <td>0.512998</td>\n",
              "      <td>0.812235</td>\n",
              "      <td>0</td>\n",
              "      <td>0</td>\n",
              "      <td>1</td>\n",
              "    </tr>\n",
              "    <tr>\n",
              "      <th>4</th>\n",
              "      <td>0.859438</td>\n",
              "      <td>0.305328</td>\n",
              "      <td>0.776136</td>\n",
              "      <td>0</td>\n",
              "      <td>1</td>\n",
              "      <td>0</td>\n",
              "    </tr>\n",
              "  </tbody>\n",
              "</table>\n",
              "</div>\n",
              "      <button class=\"colab-df-convert\" onclick=\"convertToInteractive('df-2d0d2fe4-52d3-4d0d-94f2-98ace3c3a251')\"\n",
              "              title=\"Convert this dataframe to an interactive table.\"\n",
              "              style=\"display:none;\">\n",
              "        \n",
              "  <svg xmlns=\"http://www.w3.org/2000/svg\" height=\"24px\"viewBox=\"0 0 24 24\"\n",
              "       width=\"24px\">\n",
              "    <path d=\"M0 0h24v24H0V0z\" fill=\"none\"/>\n",
              "    <path d=\"M18.56 5.44l.94 2.06.94-2.06 2.06-.94-2.06-.94-.94-2.06-.94 2.06-2.06.94zm-11 1L8.5 8.5l.94-2.06 2.06-.94-2.06-.94L8.5 2.5l-.94 2.06-2.06.94zm10 10l.94 2.06.94-2.06 2.06-.94-2.06-.94-.94-2.06-.94 2.06-2.06.94z\"/><path d=\"M17.41 7.96l-1.37-1.37c-.4-.4-.92-.59-1.43-.59-.52 0-1.04.2-1.43.59L10.3 9.45l-7.72 7.72c-.78.78-.78 2.05 0 2.83L4 21.41c.39.39.9.59 1.41.59.51 0 1.02-.2 1.41-.59l7.78-7.78 2.81-2.81c.8-.78.8-2.07 0-2.86zM5.41 20L4 18.59l7.72-7.72 1.47 1.35L5.41 20z\"/>\n",
              "  </svg>\n",
              "      </button>\n",
              "      \n",
              "  <style>\n",
              "    .colab-df-container {\n",
              "      display:flex;\n",
              "      flex-wrap:wrap;\n",
              "      gap: 12px;\n",
              "    }\n",
              "\n",
              "    .colab-df-convert {\n",
              "      background-color: #E8F0FE;\n",
              "      border: none;\n",
              "      border-radius: 50%;\n",
              "      cursor: pointer;\n",
              "      display: none;\n",
              "      fill: #1967D2;\n",
              "      height: 32px;\n",
              "      padding: 0 0 0 0;\n",
              "      width: 32px;\n",
              "    }\n",
              "\n",
              "    .colab-df-convert:hover {\n",
              "      background-color: #E2EBFA;\n",
              "      box-shadow: 0px 1px 2px rgba(60, 64, 67, 0.3), 0px 1px 3px 1px rgba(60, 64, 67, 0.15);\n",
              "      fill: #174EA6;\n",
              "    }\n",
              "\n",
              "    [theme=dark] .colab-df-convert {\n",
              "      background-color: #3B4455;\n",
              "      fill: #D2E3FC;\n",
              "    }\n",
              "\n",
              "    [theme=dark] .colab-df-convert:hover {\n",
              "      background-color: #434B5C;\n",
              "      box-shadow: 0px 1px 3px 1px rgba(0, 0, 0, 0.15);\n",
              "      filter: drop-shadow(0px 1px 2px rgba(0, 0, 0, 0.3));\n",
              "      fill: #FFFFFF;\n",
              "    }\n",
              "  </style>\n",
              "\n",
              "      <script>\n",
              "        const buttonEl =\n",
              "          document.querySelector('#df-2d0d2fe4-52d3-4d0d-94f2-98ace3c3a251 button.colab-df-convert');\n",
              "        buttonEl.style.display =\n",
              "          google.colab.kernel.accessAllowed ? 'block' : 'none';\n",
              "\n",
              "        async function convertToInteractive(key) {\n",
              "          const element = document.querySelector('#df-2d0d2fe4-52d3-4d0d-94f2-98ace3c3a251');\n",
              "          const dataTable =\n",
              "            await google.colab.kernel.invokeFunction('convertToInteractive',\n",
              "                                                     [key], {});\n",
              "          if (!dataTable) return;\n",
              "\n",
              "          const docLinkHtml = 'Like what you see? Visit the ' +\n",
              "            '<a target=\"_blank\" href=https://colab.research.google.com/notebooks/data_table.ipynb>data table notebook</a>'\n",
              "            + ' to learn more about interactive tables.';\n",
              "          element.innerHTML = '';\n",
              "          dataTable['output_type'] = 'display_data';\n",
              "          await google.colab.output.renderOutput(dataTable, element);\n",
              "          const docLink = document.createElement('div');\n",
              "          docLink.innerHTML = docLinkHtml;\n",
              "          element.appendChild(docLink);\n",
              "        }\n",
              "      </script>\n",
              "    </div>\n",
              "  </div>\n",
              "  "
            ]
          },
          "metadata": {},
          "execution_count": 65
        }
      ]
    },
    {
      "cell_type": "code",
      "source": [
        "# Chia train/test 80:20\n",
        "X_train_df3, X_test_df3, y_train_df3, y_test_df3 = train_test_split(X_df3, y_df3, test_size=0.2, random_state=42, shuffle=True)"
      ],
      "metadata": {
        "id": "sOdlAO4AEQam"
      },
      "execution_count": null,
      "outputs": []
    },
    {
      "cell_type": "code",
      "source": [
        "# Chia train/val 80:20\n",
        "X_train_df3, X_val_df3, y_train_df3, y_val_df3 = train_test_split(X_train_df3, y_train_df3, test_size=0.2, random_state=42, shuffle=True)"
      ],
      "metadata": {
        "id": "rTlHi4isEWSy"
      },
      "execution_count": null,
      "outputs": []
    },
    {
      "cell_type": "code",
      "source": [
        "evaluate(X_train_df3, y_train_df3, X_val_df3, y_val_df3, X_test_df3, y_test_df3)"
      ],
      "metadata": {
        "colab": {
          "base_uri": "https://localhost:8080/"
        },
        "id": "x8xumAqhETQZ",
        "outputId": "55c8dac0-3765-4962-f363-a7c5707cdd87"
      },
      "execution_count": null,
      "outputs": [
        {
          "output_type": "stream",
          "name": "stdout",
          "text": [
            "------------------ Linear regression ------------------\n",
            "MSE on train:  79285620.69\n",
            "MSE on val:  95941534.077\n",
            "MSE on test:  86193059.485\n",
            "-------------------------------------------------\n",
            "------------------ Random forest ------------------\n",
            "MSE on train:  14553776.249\n",
            "MSE on val:  102571441.669\n",
            "MSE on test:  96245056.165\n",
            "-------------------------------------------------\n",
            "------------------ SVM Linear ------------------\n",
            "MSE on train:  1613029615.089\n",
            "MSE on val:  2340687988.137\n",
            "MSE on test:  955678665.321\n",
            "-------------------------------------------------\n",
            "------------------ SVM rbf ------------------\n",
            "MSE on train:  1613107548.771\n",
            "MSE on val:  2340882757.848\n",
            "MSE on test:  955801644.642\n",
            "-------------------------------------------------\n",
            "------------------ SVM poly ------------------\n",
            "MSE on train:  1610646364.604\n",
            "MSE on val:  2338015550.52\n",
            "MSE on test:  954477492.499\n",
            "-------------------------------------------------\n"
          ]
        }
      ]
    },
    {
      "cell_type": "markdown",
      "source": [
        "# II.Kết quả"
      ],
      "metadata": {
        "id": "ORGoJZfE-Hv5"
      }
    },
    {
      "cell_type": "code",
      "source": [
        "pip install tabulate"
      ],
      "metadata": {
        "colab": {
          "base_uri": "https://localhost:8080/"
        },
        "id": "foRmYAiII9OB",
        "outputId": "e55d5711-0308-4707-b696-1b4a95e0904d"
      },
      "execution_count": null,
      "outputs": [
        {
          "output_type": "stream",
          "name": "stdout",
          "text": [
            "Looking in indexes: https://pypi.org/simple, https://us-python.pkg.dev/colab-wheels/public/simple/\n",
            "Requirement already satisfied: tabulate in /usr/local/lib/python3.7/dist-packages (0.8.10)\n"
          ]
        }
      ]
    },
    {
      "cell_type": "code",
      "source": [
        "from tabulate import tabulate"
      ],
      "metadata": {
        "id": "bLwq9Bl5I9t3"
      },
      "execution_count": null,
      "outputs": []
    },
    {
      "cell_type": "code",
      "source": [
        "model = [lr, rf, svr_linear, svr_rbf, svr_poly]\n",
        "res_df1 = []\n",
        "res_df2 = []\n",
        "res_df3 = []\n",
        "\n",
        "def evaluate_2(res_df, X_train, y_train, X_val, y_val, X_test, y_test):  \n",
        "  for i in range(len(model)):\n",
        "    res = model[i].fit(X_train, y_train)\n",
        "    y_train_pred = res.predict(X_train)\n",
        "    y_val_pred = res.predict(X_val)\n",
        "    y_test_pred = res.predict(X_test)\n",
        "    res_train = round(mean_squared_error(y_train, y_train_pred), 3)\n",
        "    res_df.append(res_train)\n",
        "    res_val = round(mean_squared_error(y_val, y_val_pred), 3)\n",
        "    res_df.append(res_val)\n",
        "    res_test = round(mean_squared_error(y_test, y_test_pred), 3)\n",
        "    res_df.append(res_test)"
      ],
      "metadata": {
        "id": "dRLd3VZON35Y"
      },
      "execution_count": null,
      "outputs": []
    },
    {
      "cell_type": "code",
      "source": [
        "evaluate_2(res_df1, X_train_df1, y_train_df1, X_val_df1, y_val_df1, X_test_df1, y_test_df1)"
      ],
      "metadata": {
        "id": "UBkiPuSGP8cp"
      },
      "execution_count": null,
      "outputs": []
    },
    {
      "cell_type": "code",
      "source": [
        "evaluate_2(res_df2, X_train_df2, y_train_df2, X_val_df2, y_val_df2, X_test_df2, y_test_df2)"
      ],
      "metadata": {
        "id": "hNF_vRzHQITS"
      },
      "execution_count": null,
      "outputs": []
    },
    {
      "cell_type": "code",
      "source": [
        "evaluate_2(res_df3, X_train_df3, y_train_df3, X_val_df3, y_val_df3, X_test_df3, y_test_df3)"
      ],
      "metadata": {
        "id": "un13PY3nQb6n"
      },
      "execution_count": null,
      "outputs": []
    },
    {
      "cell_type": "code",
      "source": [
        "res_df1 = [str(x) for x in res_df1]\n",
        "res_df2 = [str(x) for x in res_df2]\n",
        "res_df3 = [str(x) for x in res_df3]"
      ],
      "metadata": {
        "id": "ctJ3F_RWSn2W"
      },
      "execution_count": null,
      "outputs": []
    },
    {
      "cell_type": "code",
      "source": [
        "#create data\n",
        "data = [[\" \", \"Salary_Data\", \"Salary_Data\", \"Salary_Data\", \"Position_Salaries\",  \"Position_Salaries\", \"Position_Salaries\", \"50_Startups\", \"50_Startups\", \"50_Startups\"],\n",
        "        [\"Methods\", \"Train\", \"Val\", \"Test\", \"Train\", \"Val\", \"Test\", \"Train\", \"Val\", \"Test\"],\n",
        "        [\"Linear Regression\", res_df1[0], res_df1[1], res_df1[2], res_df2[0], res_df2[1], res_df2[2], res_df3[0], res_df3[1], res_df3[2]], \n",
        "        [\"Random Forest\", res_df1[3], res_df1[4], res_df1[5], res_df2[3], res_df2[4], res_df2[5], res_df3[3], res_df3[4], res_df3[5]], \n",
        "        [\"SVM - linear\", res_df1[6], res_df1[7], res_df1[8], res_df2[6], res_df2[7], res_df2[8], res_df3[6], res_df3[7], res_df3[8]], \n",
        "        [\"SVM - rbf\", res_df1[9], res_df1[10], res_df1[11], res_df2[9], res_df2[10], res_df2[11], res_df3[9], res_df3[10], res_df3[11]],\n",
        "        [\"SVM - poly\", res_df1[12], res_df1[13], res_df1[14], res_df2[12], res_df2[13], res_df2[14], res_df3[12], res_df3[13], res_df3[14]]]\n",
        "#display table\n",
        "print(tabulate(data, headers='firstrow', tablefmt='fancy_grid'))"
      ],
      "metadata": {
        "colab": {
          "base_uri": "https://localhost:8080/"
        },
        "id": "4AIn7QQnI_em",
        "outputId": "b294ef34-74c9-408b-e37f-1f21c2d0e1b1"
      },
      "execution_count": null,
      "outputs": [
        {
          "output_type": "stream",
          "name": "stdout",
          "text": [
            "╒═══════════════════╤═══════════════╤════════════════╤═══════════════╤═════════════════════╤═════════════════════╤═════════════════════╤════════════════╤════════════════╤═══════════════╕\n",
            "│                   │ Salary_Data   │ Salary_Data    │ Salary_Data   │ Position_Salaries   │ Position_Salaries   │ Position_Salaries   │ 50_Startups    │ 50_Startups    │ 50_Startups   │\n",
            "╞═══════════════════╪═══════════════╪════════════════╪═══════════════╪═════════════════════╪═════════════════════╪═════════════════════╪════════════════╪════════════════╪═══════════════╡\n",
            "│ Methods           │ Train         │ Val            │ Test          │ Train               │ Val                 │ Test                │ Train          │ Val            │ Test          │\n",
            "├───────────────────┼───────────────┼────────────────┼───────────────┼─────────────────────┼─────────────────────┼─────────────────────┼────────────────┼────────────────┼───────────────┤\n",
            "│ Linear Regression │ 30816430.904  │ 13998817.774   │ 48407730.461  │ 0.0                 │ 60867255396.362     │ 33466596757.47      │ 79285620.69    │ 95941534.077   │ 86193059.485  │\n",
            "├───────────────────┼───────────────┼────────────────┼───────────────┼─────────────────────┼─────────────────────┼─────────────────────┼────────────────┼────────────────┼───────────────┤\n",
            "│ Random Forest     │ 8189147.887   │ 18951701.074   │ 59162633.108  │ 14610468333.333     │ 2585405000.0        │ 14732530000.0       │ 17532819.176   │ 113661292.555  │ 85070852.718  │\n",
            "├───────────────────┼───────────────┼────────────────┼───────────────┼─────────────────────┼─────────────────────┼─────────────────────┼────────────────┼────────────────┼───────────────┤\n",
            "│ SVM - linear      │ 876020632.49  │ 1126422884.972 │ 991070731.169 │ 119942970853.0      │ 10552752340.0       │ 60608501908.0       │ 1613029615.089 │ 2340687988.137 │ 955678665.321 │\n",
            "├───────────────────┼───────────────┼────────────────┼───────────────┼─────────────────────┼─────────────────────┼─────────────────────┼────────────────┼────────────────┼───────────────┤\n",
            "│ SVM - rbf         │ 882970684.74  │ 1135345776.794 │ 997751754.546 │ 119957885320.505    │ 10562275104.345     │ 60624516407.287     │ 1613107548.771 │ 2340882757.848 │ 955801644.642 │\n",
            "├───────────────────┼───────────────┼────────────────┼───────────────┼─────────────────────┼─────────────────────┼─────────────────────┼────────────────┼────────────────┼───────────────┤\n",
            "│ SVM - poly        │ 719312652.109 │ 911456098.27   │ 825555447.978 │ 119953431065.829    │ 10561513737.969     │ 60621182863.374     │ 1610646364.604 │ 2338015550.52  │ 954477492.499 │\n",
            "╘═══════════════════╧═══════════════╧════════════════╧═══════════════╧═════════════════════╧═════════════════════╧═════════════════════╧════════════════╧════════════════╧═══════════════╛\n"
          ]
        }
      ]
    },
    {
      "cell_type": "markdown",
      "source": [
        "# III.Nhận xét kết quả"
      ],
      "metadata": {
        "id": "VwWdUyQ7-MGc"
      }
    },
    {
      "cell_type": "markdown",
      "source": [
        "- Đối với Salary_Data, LinearRegression cho kết quả test tốt nhất, cả 5 mô hình có khả năng xẩy ra overfitting.\n",
        "\n",
        "- Đối với Position_Salaries, RandomForest cho kết quả tốt nhất, MSE ở test nhỏ nhất trong 5 model là 14732530000.0. LinearRegression có MSE ở train bằng 0 nên overfitting rõ ràng.\n",
        "\n",
        "- Đối với 50_Startups, LinearRegression có lẽ sẽ tốt nhất trong 5 model, nhìn chung sai số ở cả 5 model lớn và overfitting cao."
      ],
      "metadata": {
        "id": "6Cqk7cT7JiuR"
      }
    }
  ]
}